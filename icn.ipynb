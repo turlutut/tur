{
 "cells": [
  {
   "cell_type": "markdown",
   "metadata": {},
   "source": [
    "# <center><font face=\"arial\" size=\"5\" color=#0101DF>NUMERIQUE ET SCIENCES INFORMATIQUES 1ère NSI</font></center>"
   ]
  },
  {
   "cell_type": "markdown",
   "metadata": {},
   "source": [
    "## <font color=#013ADF>TD structures alternatives et conditionnelles</font>"
   ]
  },
  {
   "cell_type": "markdown",
   "metadata": {},
   "source": [
    ">**Avertissement : le code ci-dessous, permet la visualisation de l'évolution des variables, chaque fois que dans une cellule de code la commande magique %%nbtutor est présente.**"
   ]
  },
  {
   "cell_type": "code",
   "execution_count": 1,
   "metadata": {},
   "outputs": [],
   "source": [
    "%load_ext nbtutor"
   ]
  },
  {
   "cell_type": "markdown",
   "metadata": {},
   "source": [
    "**1)** Tests : les mots clé if, else, elif"
   ]
  },
  {
   "cell_type": "markdown",
   "metadata": {},
   "source": [
    ">**Et son algorithme**"
   ]
  },
  {
   "cell_type": "code",
   "execution_count": null,
   "metadata": {
    "scrolled": true
   },
   "outputs": [],
   "source": [
    "%%nbtutor --reset\n",
    "# -*- coding: utf-8 -*-\n",
    "\"\"\"\n",
    "Structure alternative\n",
    "\"\"\"\n",
    "a=int(input(\"Donnez un premier nombre : \"))\n",
    "b=int(input(\"Donnez un autre nombre : \"))\n",
    "o=input(\"Opération ? (entrez * ou +) : \")\n",
    "if o==\"*\":\n",
    "    c=a*b\n",
    "else:\n",
    "    c=a+b\n",
    "#Remarquez le formatage de l'affichage\n",
    "print(f'Le résultat de {a} {o} {b} = {c}')"
   ]
  },
  {
   "cell_type": "markdown",
   "metadata": {},
   "source": [
    "<img src=\"Images/si.png\" alt=\"algorithme\" width=\"300\"/>"
   ]
  },
  {
   "cell_type": "markdown",
   "metadata": {},
   "source": [
    ">* Changez les nombres a et b et les opérations ;\n",
    "* Que réalise se programme ?"
   ]
  },
  {
   "cell_type": "markdown",
   "metadata": {},
   "source": [
    "**Voici une légère variante**"
   ]
  },
  {
   "cell_type": "code",
   "execution_count": null,
   "metadata": {},
   "outputs": [],
   "source": [
    "%%nbtutor --reset\n",
    "# -*- coding: utf-8 -*-\n",
    "\"\"\"\n",
    "Structure alternative modifiée\n",
    "\"\"\"\n",
    "a=int(input(\"Donnez un premier nombre : \"))\n",
    "b=int(input(\"Donnez un autre nombre : \"))\n",
    "o=input(\"Opération ? (entrez * ou +) : \")\n",
    "if o==\"*\" or o==\"+\":\n",
    "    if o==\"*\" :\n",
    "        print(\"le produit des deux nombres est :\",a*b)\n",
    "    else:\n",
    "        print(\"la somme des deux nombres est :\",a+b)\n",
    "else:\n",
    "    print(\"erreur\")"
   ]
  },
  {
   "cell_type": "markdown",
   "metadata": {},
   "source": [
    ">* Testez plusieurs fois ce programme. Qu’observez-vous ? Expliquez pourquoi.\n",
    "* Que se passe-t-il si vous entrez autre chose que « * » ou « + » pour le choix de l’opération ?\n",
    "* Ecrivez le nouvel algorithme, puis modifiez le programme à l’aide d’un premier test : **utilisez un opérateur logique** (voir sur Internet les opérateurs logiques en python).\n",
    "* Modifiez également le programme afin qu’il affiche : \"La somme des deux nombres est : ...\" ou \"Le produit des deux nombres est : ...\" en fonction de l’opération choisie."
   ]
  },
  {
   "cell_type": "markdown",
   "metadata": {},
   "source": [
    "* Après un if, si le test est vrai, le bloc à exécuter, doit être **décalé vers la droite : indentation**\n",
    "* Il ne faut pas oublier les ’:’ qui suivent le test.\n",
    "* Pour sortir d’un bloc, il faut arrêter le décalage.\n",
    "* Pour **tester une égalité**, il faut utiliser **’==’**.\n",
    "\n",
    "* La structure algorithmique utilisée est une **structure alternative**. S’il n’y a rien à faire dans le cas où la condition est fausse, la **structure est conditionnelle**."
   ]
  },
  {
   "cell_type": "markdown",
   "metadata": {},
   "source": [
    "**Autre exemple**"
   ]
  },
  {
   "cell_type": "code",
   "execution_count": null,
   "metadata": {},
   "outputs": [],
   "source": [
    "%%nbtutor --reset\n",
    "# -*- coding: utf-8 -*-\n",
    "\"\"\"\n",
    "Autre exemple de\n",
    "structure alternative\n",
    "\"\"\"\n",
    "\n",
    "a=int(input(\"Donnez un premier nombre : \"))\n",
    "b=int(input(\"Donnez un autre nombre : \"))\n",
    "if a==b:\n",
    "    print(\"Les deux nombres sont égaux\")\n",
    "elif a<b:\n",
    "    print(\"Le plus grand nombre est \",b)\n",
    "else:\n",
    "    print(\"Le plus grand nombre est \",a)"
   ]
  },
  {
   "cell_type": "markdown",
   "metadata": {},
   "source": [
    "***\n",
    "Voici l'heure du défi !"
   ]
  },
  {
   "cell_type": "markdown",
   "metadata": {},
   "source": [
    "**Défi**\n",
    "\n",
    "\n",
    "Le pH permet de mesurer l’acidité ou la basicité d’une solution. Il est lié à la concentration en ions oxonium dans la solution. La valeur du pH est un nombre sans unité compris entre 0 et 14.\n",
    "\n",
    "Ainsi, dans un milieu aqueux à 25 °C :\n",
    ">* une solution de pH = 7 est dite neutre ;\n",
    ">* une solution de pH < 7 est dite acide ; plus son pH diminue, plus elle est acide ;\n",
    ">* une solution de pH > 7 est dite basique ; plus son pH augmente, plus elle est basique.\n",
    "\n",
    "\n",
    "La valeur du PH mesuré est stockée dans une variable PH !\n",
    "\n",
    "* Écrivez l’algorithme puis le programme qui indique si la solution est acide, basique ou neutre en fonction de la valeur de la variable PH\n",
    "* La présentation des résultats doit être explicite ;\n",
    "* On commentera son code.\n",
    "\n",
    "*Remarque : Vous avez tous les éléments pour réaliser ce programme dans les pages précédentes.Ne perdez pas votre temps sur Internet !*"
   ]
  },
  {
   "cell_type": "code",
   "execution_count": 9,
   "metadata": {},
   "outputs": [
    {
     "name": "stdout",
     "output_type": "stream",
     "text": [
      "Donnez un PH: -1\n",
      "Le PH est pas bon, il doit etre entre 0 et 14\n"
     ]
    }
   ],
   "source": [
    "###### -*- coding: utf-8 -*-\n",
    "\"\"\"\n",
    "voir defi\n",
    "\"\"\"\n",
    "\n",
    "PH=int(input(\"Donnez un PH: \"))\n",
    "if PH<0 or PH>14 :\n",
    "    print(\"Le PH est pas bon, il doit etre entre 0 et 14\")\n",
    "else :\n",
    "    if PH==7:\n",
    "        print(\"Le PH est neutre\")\n",
    "    if PH<7:\n",
    "        print(\"Le PH est acide \")\n",
    "    if PH>7 :\n",
    "        print(\"Le PH est basique \")"
   ]
  }
 ],
 "metadata": {
  "celltoolbar": "Visualize",
  "kernelspec": {
   "display_name": "Python 3",
   "language": "python",
   "name": "python3"
  },
  "language_info": {
   "codemirror_mode": {
    "name": "ipython",
    "version": 3
   },
   "file_extension": ".py",
   "mimetype": "text/x-python",
   "name": "python",
   "nbconvert_exporter": "python",
   "pygments_lexer": "ipython3",
   "version": "3.6.7"
  },
  "varInspector": {
   "cols": {
    "lenName": 16,
    "lenType": 16,
    "lenVar": 40
   },
   "kernels_config": {
    "python": {
     "delete_cmd_postfix": "",
     "delete_cmd_prefix": "del ",
     "library": "var_list.py",
     "varRefreshCmd": "print(var_dic_list())"
    },
    "r": {
     "delete_cmd_postfix": ") ",
     "delete_cmd_prefix": "rm(",
     "library": "var_list.r",
     "varRefreshCmd": "cat(var_dic_list()) "
    }
   },
   "types_to_exclude": [
    "module",
    "function",
    "builtin_function_or_method",
    "instance",
    "_Feature"
   ],
   "window_display": false
  }
 },
 "nbformat": 4,
 "nbformat_minor": 2
}
